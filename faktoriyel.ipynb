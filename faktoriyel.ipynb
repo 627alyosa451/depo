{
  "nbformat": 4,
  "nbformat_minor": 0,
  "metadata": {
    "colab": {
      "provenance": [],
      "authorship_tag": "ABX9TyPCU0JpelJ38mNYBJ5LXyhx",
      "include_colab_link": true
    },
    "kernelspec": {
      "name": "python3",
      "display_name": "Python 3"
    },
    "language_info": {
      "name": "python"
    }
  },
  "cells": [
    {
      "cell_type": "markdown",
      "metadata": {
        "id": "view-in-github",
        "colab_type": "text"
      },
      "source": [
        "<a href=\"https://colab.research.google.com/github/627alyosa451/depo/blob/main/faktoriyel.ipynb\" target=\"_parent\"><img src=\"https://colab.research.google.com/assets/colab-badge.svg\" alt=\"Open In Colab\"/></a>"
      ]
    },
    {
      "cell_type": "code",
      "execution_count": null,
      "metadata": {
        "id": "35S7TA-LXfN2"
      },
      "outputs": [],
      "source": [
        "def factor():\n",
        "  sonuc = 1\n",
        "  x = input(\"bir sayı giriniz: \")\n",
        "  for i in range(1,int(x)+1):\n",
        "    sonuc = sonuc*i\n",
        "\n",
        "  print(sonuc)\n",
        "\n",
        "factor()"
      ]
    }
  ]
}