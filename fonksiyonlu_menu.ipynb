{
  "nbformat": 4,
  "nbformat_minor": 0,
  "metadata": {
    "colab": {
      "provenance": [],
      "authorship_tag": "ABX9TyMILK0bdzx3RzGzkPKl6mUC",
      "include_colab_link": true
    },
    "kernelspec": {
      "name": "python3",
      "display_name": "Python 3"
    },
    "language_info": {
      "name": "python"
    }
  },
  "cells": [
    {
      "cell_type": "markdown",
      "metadata": {
        "id": "view-in-github",
        "colab_type": "text"
      },
      "source": [
        "<a href=\"https://colab.research.google.com/github/627alyosa451/depo/blob/main/fonksiyonlu_menu.ipynb\" target=\"_parent\"><img src=\"https://colab.research.google.com/assets/colab-badge.svg\" alt=\"Open In Colab\"/></a>"
      ]
    },
    {
      "cell_type": "code",
      "execution_count": null,
      "metadata": {
        "colab": {
          "base_uri": "https://localhost:8080/"
        },
        "id": "CCboVmbaW7Ew",
        "outputId": "da48fb12-ba0c-41b8-e3a7-eb8603e8996c"
      },
      "outputs": [
        {
          "output_type": "stream",
          "name": "stdout",
          "text": [
            "1. günün yemekleri: ['f', 'c', 'd']\n",
            "2. günün yemekleri: ['b', 'f', 'e']\n",
            "3. günün yemekleri: ['d', 'c', 'b']\n",
            "4. günün yemekleri: ['a', 'f', 'e']\n",
            "5. günün yemekleri: ['b', 'd', 'c']\n",
            "6. günün yemekleri: ['e', 'b', 'd']\n",
            "7. günün yemekleri: ['f', 'c', 'e']\n"
          ]
        }
      ],
      "source": [
        "import random\n",
        "yemekler = [\"a\",\"b\",\"c\",\"d\",\"e\",\"f\"]\n",
        "gununListesi = [1,2,3]\n",
        "\n",
        "for _ in range(7):\n",
        "\n",
        "  for i in range(3):\n",
        "    secilen = random.choice(yemekler)\n",
        "    while True:\n",
        "\n",
        "      if secilen not in gununListesi:\n",
        "        gununListesi[i] = secilen\n",
        "        break\n",
        "\n",
        "      else:\n",
        "        secilen = random.choice(yemekler)\n",
        "\n",
        "\n",
        "  print(f\"{_ + 1}. günün yemekleri: {gununListesi}\")\n"
      ]
    },
    {
      "cell_type": "code",
      "source": [
        "import random\n",
        "tatlılar = [\"t6\",\"t5\",\"t4\",\"t3\",\"t2\",\"t1\"]\n",
        "yemekler = [\"y1\",\"y2\",\"y4\",\"y5\",\"y6\",\"y7\"]\n",
        "\n",
        "secilenListe= [1,2,3,4]\n",
        "\n",
        "def sec(liste,kere = 4,sayi= 0):\n",
        "  for i in range(kere):\n",
        "    a = sayi\n",
        "    while a < kere:\n",
        "      secilen = random.randint(0,5)\n",
        "      if liste[secilen] not in secilenListe:\n",
        "        secilenListe[a] = liste[secilen]\n",
        "        a +=1\n",
        "  return secilenListe\n",
        "\n",
        "sec(yemekler,3, 0)\n",
        "sec(tatlılar, 4, 3)\n",
        "\n",
        "for i in range(7):\n",
        "  menu = sec(yemekler,3,0) and sec(tatlılar,4,3)\n",
        "  print(menu)\n"
      ],
      "metadata": {
        "colab": {
          "base_uri": "https://localhost:8080/"
        },
        "id": "QEFaNkozbUGe",
        "outputId": "46a6d156-47b8-4dbb-ec55-ff49425da123"
      },
      "execution_count": 36,
      "outputs": [
        {
          "output_type": "stream",
          "name": "stdout",
          "text": [
            "['y6', 'y1', 'y2', 't5']\n",
            "['y6', 'y1', 'y4', 't3']\n",
            "['y7', 'y5', 'y6', 't3']\n",
            "['y2', 'y6', 'y4', 't6']\n",
            "['y7', 'y2', 'y4', 't2']\n",
            "['y4', 'y1', 'y7', 't3']\n",
            "['y2', 'y5', 'y4', 't1']\n"
          ]
        }
      ]
    }
  ]
}