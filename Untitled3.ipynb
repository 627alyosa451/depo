{
  "nbformat": 4,
  "nbformat_minor": 0,
  "metadata": {
    "colab": {
      "provenance": [],
      "authorship_tag": "ABX9TyNjoxKM8yLZMycOdgT77wQq",
      "include_colab_link": true
    },
    "kernelspec": {
      "name": "python3",
      "display_name": "Python 3"
    },
    "language_info": {
      "name": "python"
    }
  },
  "cells": [
    {
      "cell_type": "markdown",
      "metadata": {
        "id": "view-in-github",
        "colab_type": "text"
      },
      "source": [
        "<a href=\"https://colab.research.google.com/github/627alyosa451/depo/blob/main/Untitled3.ipynb\" target=\"_parent\"><img src=\"https://colab.research.google.com/assets/colab-badge.svg\" alt=\"Open In Colab\"/></a>"
      ]
    },
    {
      "cell_type": "code",
      "source": [
        "import random\n",
        "ogrenciler = [\"ali\", \"ahmet\", \"ayşe\", \"faik\", \"mehmet\", \"alp\", \"rana\"]\n",
        "\n",
        "dogruCevap = []\n",
        "\n",
        "for i in range(3):\n",
        "  dogruCevap.append(random.choice(ogrenciler))\n",
        "\n",
        "print(dogruCevap) #####HİLE####\n",
        "\n",
        "can = 3\n",
        "while True:\n",
        "  tahmin = input(\"Bir isim tahmin ediniz: \")\n",
        "\n",
        "  if tahmin in dogruCevap:\n",
        "    print(\"Doğru\")\n",
        "    dogruCevap.remove(tahmin)\n",
        "  else:\n",
        "    can -= 1\n",
        "    print(f\"Yanlış {can} tahmin hakkınız kaldı \")\n",
        "\n",
        "  if can == 0:\n",
        "    print(\"kaybettiniz\")\n",
        "    break\n",
        "  elif len(dogruCevap) == 0:\n",
        "    print(\"kazandınız\")\n",
        "    break"
      ],
      "metadata": {
        "colab": {
          "base_uri": "https://localhost:8080/"
        },
        "id": "AZyfa54DH2sQ",
        "outputId": "f3675810-186e-45fa-9856-5b3e7c16a226"
      },
      "execution_count": 7,
      "outputs": [
        {
          "output_type": "stream",
          "name": "stdout",
          "text": [
            "['rana', 'rana', 'ayşe']\n",
            "Bir isim tahmin ediniz: rana\n",
            "Doğru\n",
            "Bir isim tahmin ediniz: rana\n",
            "Doğru\n",
            "Bir isim tahmin ediniz: ayşe\n",
            "Doğru\n",
            "kazandınız\n"
          ]
        }
      ]
    }
  ]
}