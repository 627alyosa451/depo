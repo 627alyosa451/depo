{
  "nbformat": 4,
  "nbformat_minor": 0,
  "metadata": {
    "colab": {
      "provenance": [],
      "authorship_tag": "ABX9TyNwBSRWCFoxYhVh0apd/ORk",
      "include_colab_link": true
    },
    "kernelspec": {
      "name": "python3",
      "display_name": "Python 3"
    },
    "language_info": {
      "name": "python"
    }
  },
  "cells": [
    {
      "cell_type": "markdown",
      "metadata": {
        "id": "view-in-github",
        "colab_type": "text"
      },
      "source": [
        "<a href=\"https://colab.research.google.com/github/627alyosa451/depo/blob/main/higher_or_lower.ipynb\" target=\"_parent\"><img src=\"https://colab.research.google.com/assets/colab-badge.svg\" alt=\"Open In Colab\"/></a>"
      ]
    },
    {
      "cell_type": "code",
      "source": [
        "#higher or lower game\n",
        "import random\n",
        "\n",
        "game = [\n",
        " [\"toplam insan sayısı\", \"8000000000\"],\n",
        " [\"toplam oduncu sayısı\", \"10000\"],\n",
        " [\"toplam Türk sayısı\", \"80000000\"],\n",
        " [\"Evrendeki tüm yıldızlar\", \"3241242342\"],\n",
        " [\"Güneş'in Dünya'dan uzaklığı(km)\", \"147500000\"]\n",
        "]\n",
        "\n",
        "\n",
        "def games():\n",
        "  skor = 0\n",
        "  def cevabıYaz():\n",
        "    print(birinci)\n",
        "    print(birinciSayi)\n",
        "    print(ikinci)\n",
        "    print(ikinciSayi)\n",
        "\n",
        "  while game_is_on == \"y\":\n",
        "    rastgele1 = random.randint(0, (len(game))-1)\n",
        "    rastgele2 = random.randint(0,(len(game))-1)\n",
        "    while rastgele1 == rastgele2:\n",
        "      rastgele2 = random.randint(0,(len(game))-1)\n",
        "\n",
        "    birinci = game[rastgele1][0]\n",
        "    birinciSayi = game[rastgele1][1]\n",
        "    ikinci = game[rastgele2][0]\n",
        "    ikinciSayi = game[rastgele2][1]\n",
        "\n",
        "    cevap = input(f\"{birinci} > {ikinci} ? (type 'y' or 'n')\").lower()\n",
        "\n",
        "    if birinciSayi > ikinciSayi:\n",
        "      dogruCevap = \"y\"\n",
        "    else:\n",
        "      dogruCevap = \"n\"\n",
        "\n",
        "    if cevap == dogruCevap:\n",
        "      print(\"Doğru\")\n",
        "      skor += 1\n",
        "      cevabıYaz()\n",
        "\n",
        "    else:\n",
        "      print(\"Yanlış\")\n",
        "      cevabıYaz()\n",
        "      print(skor)\n",
        "      break\n",
        "\n",
        "while True:\n",
        "  game_is_on = input(\"Do u want to play (type 'y' or 'n')\").lower()\n",
        "  if game_is_on == \"y\":\n",
        "    games()\n",
        "  else:\n",
        "    break\n",
        "\n",
        "\n"
      ],
      "metadata": {
        "colab": {
          "base_uri": "https://localhost:8080/"
        },
        "id": "AZyfa54DH2sQ",
        "outputId": "f47da781-31e4-4591-da31-ef185757d839"
      },
      "execution_count": 30,
      "outputs": [
        {
          "name": "stdout",
          "output_type": "stream",
          "text": [
            "Do u want to play (type 'y' or 'n')y\n",
            "Evrendeki tüm yıldızlar > toplam insan sayısı ? (type 'y' or 'n')y\n",
            "Yanlış\n",
            "Evrendeki tüm yıldızlar\n",
            "3241242342\n",
            "toplam insan sayısı\n",
            "8000000000\n",
            "0\n",
            "Do u want to play (type 'y' or 'n')n\n"
          ]
        }
      ]
    },
    {
      "cell_type": "code",
      "source": [
        "import random\n",
        "\n",
        "x = random.randint(9,11)\n",
        "print(x)"
      ],
      "metadata": {
        "colab": {
          "base_uri": "https://localhost:8080/"
        },
        "id": "kuTk5WEet9WD",
        "outputId": "1f4d5348-442a-4199-9062-4541805911b4"
      },
      "execution_count": 9,
      "outputs": [
        {
          "output_type": "stream",
          "name": "stdout",
          "text": [
            "10\n"
          ]
        }
      ]
    }
  ]
}