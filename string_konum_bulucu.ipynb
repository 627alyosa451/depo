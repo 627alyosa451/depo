{
  "nbformat": 4,
  "nbformat_minor": 0,
  "metadata": {
    "colab": {
      "provenance": [],
      "authorship_tag": "ABX9TyPKneLEoa81es9ikCq6AJoL",
      "include_colab_link": true
    },
    "kernelspec": {
      "name": "python3",
      "display_name": "Python 3"
    },
    "language_info": {
      "name": "python"
    }
  },
  "cells": [
    {
      "cell_type": "markdown",
      "metadata": {
        "id": "view-in-github",
        "colab_type": "text"
      },
      "source": [
        "<a href=\"https://colab.research.google.com/github/627alyosa451/depo/blob/main/string_konum_bulucu.ipynb\" target=\"_parent\"><img src=\"https://colab.research.google.com/assets/colab-badge.svg\" alt=\"Open In Colab\"/></a>"
      ]
    },
    {
      "cell_type": "code",
      "execution_count": null,
      "metadata": {
        "id": "WfubESY_zop_"
      },
      "outputs": [],
      "source": [
        "cumle = \"Bugun çok güzel bir gün\"\n",
        "aranacak_kelime = input(\"aramak istediniz kelime: \")\n",
        "uzunluk = len(aranacak_kelime)\n",
        "konum = cumle.find(aranacak_kelime)\n",
        "konum_bitis = konum + uzunluk\n",
        "print(\"aradığınz kelimenin konumu\", konum,\"-\", konum_bitis)\n",
        "print(cumle[konum:konum_bitis])"
      ]
    }
  ]
}