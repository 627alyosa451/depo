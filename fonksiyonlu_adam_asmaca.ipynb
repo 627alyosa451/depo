{
  "nbformat": 4,
  "nbformat_minor": 0,
  "metadata": {
    "colab": {
      "provenance": [],
      "authorship_tag": "ABX9TyNt/gXcgUog3xq93n3r9ZAo",
      "include_colab_link": true
    },
    "kernelspec": {
      "name": "python3",
      "display_name": "Python 3"
    },
    "language_info": {
      "name": "python"
    }
  },
  "cells": [
    {
      "cell_type": "markdown",
      "metadata": {
        "id": "view-in-github",
        "colab_type": "text"
      },
      "source": [
        "<a href=\"https://colab.research.google.com/github/627alyosa451/depo/blob/main/fonksiyonlu_adam_asmaca.ipynb\" target=\"_parent\"><img src=\"https://colab.research.google.com/assets/colab-badge.svg\" alt=\"Open In Colab\"/></a>"
      ]
    },
    {
      "cell_type": "code",
      "source": [
        "#adam asmaca\n",
        "import random\n",
        "\n",
        "kelimeler = [\"data\", \"information\", \"knowledge\", \"wisdom\"]\n",
        "can = 3\n",
        "\n",
        "yeniListe = []\n",
        "bosListe = []\n",
        "\n",
        "def oyunkur():\n",
        "  rastgeleKelime = random.choice(kelimeler)\n",
        "\n",
        "  for i in range(len(rastgeleKelime)):\n",
        "    yeniListe.append(rastgeleKelime[i])\n",
        "    bosListe.append(\"_\")\n",
        "  print(bosListe)\n",
        "  return yeniListe, bosListe\n",
        "\n",
        "oyunkur()\n",
        "\n",
        "while True:\n",
        "  tahmin = input(\"harf gir\")\n",
        "  if tahmin in yeniListe:\n",
        "\n",
        "    for i in range(len(yeniListe)):\n",
        "      if tahmin == yeniListe[i]:\n",
        "        bosListe[i] = tahmin\n",
        "  else:\n",
        "    can -= 1\n",
        "\n",
        "  if \"_\" not in bosListe:\n",
        "    print(\"U win\")\n",
        "    print(bosListe)\n",
        "    break\n",
        "\n",
        "  if can == 0:\n",
        "    print(\"U lose\")\n",
        "    break\n",
        "  print(bosListe)\n",
        "\n"
      ],
      "metadata": {
        "colab": {
          "base_uri": "https://localhost:8080/"
        },
        "id": "WL9bKvjvttwT",
        "outputId": "645f5fe7-6018-4fb1-b8ec-cde48d37aa6c"
      },
      "execution_count": 1,
      "outputs": [
        {
          "output_type": "stream",
          "name": "stdout",
          "text": [
            "['_', '_', '_', '_', '_', '_']\n",
            "harf girw\n",
            "['w', '_', '_', '_', '_', '_']\n",
            "harf giri\n",
            "['w', 'i', '_', '_', '_', '_']\n",
            "harf girs\n",
            "['w', 'i', 's', '_', '_', '_']\n",
            "harf gird\n",
            "['w', 'i', 's', 'd', '_', '_']\n",
            "harf gir\n",
            "['w', 'i', 's', 'd', '_', '_']\n",
            "harf giro\n",
            "['w', 'i', 's', 'd', 'o', '_']\n",
            "harf girm\n",
            "U win\n",
            "['w', 'i', 's', 'd', 'o', 'm']\n"
          ]
        }
      ]
    }
  ]
}