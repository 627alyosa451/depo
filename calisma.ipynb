{
  "nbformat": 4,
  "nbformat_minor": 0,
  "metadata": {
    "colab": {
      "provenance": [],
      "authorship_tag": "ABX9TyPHB3Do/x8xR64eKIs+ykjj",
      "include_colab_link": true
    },
    "kernelspec": {
      "name": "python3",
      "display_name": "Python 3"
    },
    "language_info": {
      "name": "python"
    }
  },
  "cells": [
    {
      "cell_type": "markdown",
      "metadata": {
        "id": "view-in-github",
        "colab_type": "text"
      },
      "source": [
        "<a href=\"https://colab.research.google.com/github/627alyosa451/depo/blob/main/calisma.ipynb\" target=\"_parent\"><img src=\"https://colab.research.google.com/assets/colab-badge.svg\" alt=\"Open In Colab\"/></a>"
      ]
    },
    {
      "cell_type": "code",
      "execution_count": 22,
      "metadata": {
        "colab": {
          "base_uri": "https://localhost:8080/"
        },
        "id": "0XmJPnHmZH9l",
        "outputId": "262693e0-58bb-427b-9353-2309b3d6a9f9"
      },
      "outputs": [
        {
          "output_type": "stream",
          "name": "stdout",
          "text": [
            "[4, 6, 7, 3]\n",
            "[4, 6, 7, 3]\n",
            "[7, 3]\n",
            "[4, 6, 7, 3]\n"
          ]
        }
      ],
      "source": [
        "X = [4,6]\n",
        "Y = [7,3]\n",
        "\n",
        "def ABC(a,b):\n",
        "  for i in b:\n",
        "    a.append(i)\n",
        "  return a\n",
        "\n",
        "D = ABC(X,Y)\n",
        "print(D)\n",
        "print(X)\n",
        "print(Y)\n",
        "\n",
        "print(X[:])"
      ]
    },
    {
      "cell_type": "code",
      "source": [
        "numaralar = [1,2,3,4,5]\n",
        "n = numaralar[:]\n",
        "numaralar.append(6)\n",
        "print(numaralar)\n",
        "print(n)"
      ],
      "metadata": {
        "colab": {
          "base_uri": "https://localhost:8080/"
        },
        "id": "G0dF1FLKIbvA",
        "outputId": "bdc96e67-6a29-4da3-c329-d9ded9dd93d4"
      },
      "execution_count": 23,
      "outputs": [
        {
          "output_type": "stream",
          "name": "stdout",
          "text": [
            "[1, 2, 3, 4, 5, 6]\n",
            "[1, 2, 3, 4, 5]\n"
          ]
        }
      ]
    },
    {
      "cell_type": "code",
      "source": [
        "ogrenciler = []\n",
        "\n",
        "ogrenciler.append([2, \"yavuz\"])\n",
        "ogrenciler.append([3, \"alper\"])\n",
        "print(ogrenciler[1][1])"
      ],
      "metadata": {
        "colab": {
          "base_uri": "https://localhost:8080/"
        },
        "id": "lfcgg3zWJSt0",
        "outputId": "70d1ec29-20a0-4806-d22b-eac3217d08ad"
      },
      "execution_count": 26,
      "outputs": [
        {
          "output_type": "stream",
          "name": "stdout",
          "text": [
            "alper\n"
          ]
        }
      ]
    },
    {
      "cell_type": "code",
      "source": [
        "ogrenciler = [[27, \"Fatih Başer\"], [19, \"Dilek Arıyan\"], [56, \"Selim Yıldırım\"],[16, \"Tuğba Tüysüz\"], [52, \"Mehmet Abaylı\"] ]\n",
        "ogrenciler.sort()\n",
        "for i in range(len(ogrenciler)):\n",
        "  print(ogrenciler[i][0],\"numaralı öğrencinin adı: \",ogrenciler[i][1])"
      ],
      "metadata": {
        "colab": {
          "base_uri": "https://localhost:8080/"
        },
        "id": "nf7XfMsyKQX9",
        "outputId": "454c1047-b4b4-41e2-f472-8d76337f1306"
      },
      "execution_count": 31,
      "outputs": [
        {
          "output_type": "stream",
          "name": "stdout",
          "text": [
            "16 numaralı öğrencinin adı:  Tuğba Tüysüz\n",
            "19 numaralı öğrencinin adı:  Dilek Arıyan\n",
            "27 numaralı öğrencinin adı:  Fatih Başer\n",
            "52 numaralı öğrencinin adı:  Mehmet Abaylı\n",
            "56 numaralı öğrencinin adı:  Selim Yıldırım\n"
          ]
        }
      ]
    },
    {
      "cell_type": "code",
      "source": [
        "kitaplar= [\n",
        "    [4, \"Python\", \"Başer\", 17],\n",
        "    [9, \"Komedya\", \"Dante\", 18],\n",
        "    [5, \"C\", \"Mustafa\", 29]\n",
        "\n",
        "]\n",
        "\n",
        "while 1:\n",
        "  kitapNo = input(\"kitap numarasını giriniz: \")\n",
        "  if kitapNo != \"ç\":\n",
        "    for x in kitaplar:\n",
        "      if int(kitapNo) > int(x[3]):\n",
        "        print(\"kitabın adı: \", x[1], \"yazarı: \", x[2], \"fiyatı: \", x[3], \"tl\")\n",
        "\n",
        "\n",
        "\n",
        "  else:\n",
        "    break\n"
      ],
      "metadata": {
        "colab": {
          "base_uri": "https://localhost:8080/"
        },
        "id": "9zx_9ygYNq9K",
        "outputId": "a93aa7b8-ed8d-4505-b7c3-487178f0ebe1"
      },
      "execution_count": 45,
      "outputs": [
        {
          "name": "stdout",
          "output_type": "stream",
          "text": [
            "kitap numarasını giriniz: 30\n",
            "kitabın adı:  Python yazarı:  Başer fiyatı:  17 tl\n",
            "kitabın adı:  Komedya yazarı:  Dante fiyatı:  18 tl\n",
            "kitabın adı:  C yazarı:  Mustafa fiyatı:  29 tl\n",
            "kitap numarasını giriniz: ç\n"
          ]
        }
      ]
    },
    {
      "cell_type": "code",
      "source": [],
      "metadata": {
        "colab": {
          "base_uri": "https://localhost:8080/",
          "height": 148
        },
        "id": "jtlo4IboST6x",
        "outputId": "76bea626-9696-484d-ee36-9c712322e192"
      },
      "execution_count": 50,
      "outputs": [
        {
          "output_type": "error",
          "ename": "AttributeError",
          "evalue": "'str' object has no attribute 'clear'",
          "traceback": [
            "\u001b[0;31m---------------------------------------------------------------------------\u001b[0m",
            "\u001b[0;31mAttributeError\u001b[0m                            Traceback (most recent call last)",
            "\u001b[0;32m<ipython-input-50-acb08ba197bf>\u001b[0m in \u001b[0;36m<cell line: 1>\u001b[0;34m()\u001b[0m\n\u001b[0;32m----> 1\u001b[0;31m \u001b[0mm\u001b[0m\u001b[0;34m.\u001b[0m\u001b[0mclear\u001b[0m\u001b[0;34m.\u001b[0m\u001b[0mdoc\u001b[0m\u001b[0;34m\u001b[0m\u001b[0;34m\u001b[0m\u001b[0m\n\u001b[0m",
            "\u001b[0;31mAttributeError\u001b[0m: 'str' object has no attribute 'clear'"
          ]
        }
      ]
    },
    {
      "cell_type": "code",
      "source": [
        "print(\"Python çok \\t kolay bir \\t dil\")"
      ],
      "metadata": {
        "colab": {
          "base_uri": "https://localhost:8080/"
        },
        "id": "G7i9zlUnmBDk",
        "outputId": "b1004a7c-28a9-410f-91a3-08ff598c1b70"
      },
      "execution_count": 3,
      "outputs": [
        {
          "output_type": "stream",
          "name": "stdout",
          "text": [
            "Python çok \t kolay bir \t dil\n"
          ]
        }
      ]
    },
    {
      "cell_type": "code",
      "source": [
        "yerlesimYerleri = [\"Bolu\",\"Yozgat\",\"İnebolu\",\"Manavgat\",\"Çanakkale\",\"Çan\",\"Kırıkkale\",\"Tirebolucuk\"]\n",
        "\n",
        "def ara(kelime, altkelime):\n",
        "  if altkelime[-1] == \"*\":\n",
        "\n",
        "  else:\n",
        "\n",
        "\n",
        "def bul(altkelime):\n",
        "\n",
        "\n",
        "aranacakKelime = input(\"Aramak istediğiniz kelimeyi giriniz: \")\n",
        "bul(aranacakKelime)"
      ],
      "metadata": {
        "id": "XvJjoIBeyuVu"
      },
      "execution_count": null,
      "outputs": []
    }
  ]
}