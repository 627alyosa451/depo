{
  "nbformat": 4,
  "nbformat_minor": 0,
  "metadata": {
    "colab": {
      "provenance": [],
      "authorship_tag": "ABX9TyNFirkzeT4Gljzt0KE/s3f0",
      "include_colab_link": true
    },
    "kernelspec": {
      "name": "python3",
      "display_name": "Python 3"
    },
    "language_info": {
      "name": "python"
    }
  },
  "cells": [
    {
      "cell_type": "markdown",
      "metadata": {
        "id": "view-in-github",
        "colab_type": "text"
      },
      "source": [
        "<a href=\"https://colab.research.google.com/github/627alyosa451/replit_deposu/blob/main/asal.ipynb\" target=\"_parent\"><img src=\"https://colab.research.google.com/assets/colab-badge.svg\" alt=\"Open In Colab\"/></a>"
      ]
    },
    {
      "cell_type": "code",
      "execution_count": null,
      "metadata": {
        "id": "cFbrQYErLIiR"
      },
      "outputs": [],
      "source": [
        "#Kaynak : Angela YU (asal sayı bulucu)\n",
        "# Write your code below this line 👇\n",
        "def prime_checker(number):\n",
        "  prime = False\n",
        "  if number == 2 or number == 3:\n",
        "    print(\"It's a prime number.\")\n",
        "  else:\n",
        "    for _ in range(2,int(number)):\n",
        "      if number % _ == 0:\n",
        "        print(\"It's not a prime number.\")\n",
        "        return()\n",
        "      else:\n",
        "        prime = True\n",
        "  if prime:\n",
        "    print(\"It's a prime number.\")\n",
        "\n",
        "\n",
        "\n",
        "# Write your code above this line 👆\n",
        "\n",
        "#Do NOT change any of the code below👇\n",
        "n = int(input()) # Check this number\n",
        "prime_checker(number=n)"
      ]
    }
  ]
}