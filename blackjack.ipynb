{
  "nbformat": 4,
  "nbformat_minor": 0,
  "metadata": {
    "colab": {
      "provenance": [],
      "authorship_tag": "ABX9TyODii1gcEs7phg8p74WV2nn",
      "include_colab_link": true
    },
    "kernelspec": {
      "name": "python3",
      "display_name": "Python 3"
    },
    "language_info": {
      "name": "python"
    }
  },
  "cells": [
    {
      "cell_type": "markdown",
      "metadata": {
        "id": "view-in-github",
        "colab_type": "text"
      },
      "source": [
        "<a href=\"https://colab.research.google.com/github/627alyosa451/depo/blob/main/blackjack.ipynb\" target=\"_parent\"><img src=\"https://colab.research.google.com/assets/colab-badge.svg\" alt=\"Open In Colab\"/></a>"
      ]
    },
    {
      "cell_type": "code",
      "execution_count": 72,
      "metadata": {
        "colab": {
          "base_uri": "https://localhost:8080/"
        },
        "id": "OkgZ803i5GX7",
        "outputId": "0d4f76b0-abe4-43f0-b015-69055a12cd16"
      },
      "outputs": [
        {
          "output_type": "stream",
          "name": "stdout",
          "text": [
            "kartlar = [7, 8] toplam = 15\n",
            "Bilgisayarın kartları =  3\n",
            "Kart çekmek istiyor musun?(y/n) y\n",
            "[7, 8, 5] 20\n",
            "3\n",
            "Kart çekmek istiyor musun?(y/n) n\n",
            "Kazandın Bilgisayar = 16\n"
          ]
        }
      ],
      "source": [
        "import random\n",
        "\n",
        "oyuncu = []\n",
        "pc = []\n",
        "\n",
        "def kart_cek(kim,kere): #rastgele kart çekme\n",
        "  card_list = [1,2,3,4,5,6,7,8,9,10,11]\n",
        "  for i in range(int(kere)):\n",
        "    yeni_kart = card_list[random.randint(0,(len(card_list)-1))]\n",
        "    kim.append(yeni_kart)\n",
        "\n",
        "kart_cek(oyuncu,2)\n",
        "kart_cek(pc,2) #oyun başlangıcı\n",
        "\n",
        "print(f\"kartlar = {oyuncu} toplam = {sum(oyuncu)}\\nBilgisayarın kartları =  {pc[0]}\")\n",
        "\n",
        "\n",
        "#oyuncu_skor = sum(oyuncu)\n",
        "#pc_skor = sum(pc)\n",
        "\n",
        "while True:\n",
        "  if sum(oyuncu) == 21 and sum(pc) == 21:\n",
        "    print(\"Berabere Blackjak\")\n",
        "  if sum(oyuncu) == 21:\n",
        "    print(\"Blackjak!\")\n",
        "    break\n",
        "  elif sum(pc) == 21:\n",
        "    print(\"Bilgisayar blackjak\")\n",
        "    break\n",
        "\n",
        "  kart = input(\"Kart çekmek istiyor musun?(y/n) \").lower()\n",
        "  if kart == \"y\":\n",
        "    kart_cek(oyuncu,1)\n",
        "    print(oyuncu, sum(oyuncu))\n",
        "    print(pc[0])\n",
        "\n",
        "\n",
        "  if kart == \"y\" and sum(pc) <= 18:\n",
        "    kart_cek(pc,1)\n",
        "\n",
        "  if sum(oyuncu) > 21:\n",
        "    print(\"Sınırı aştın\")\n",
        "    break\n",
        "\n",
        "  elif sum(pc) > 21:\n",
        "    print(f\"Bilgisayar sınır aştı {sum(pc)}\")\n",
        "\n",
        "    break\n",
        "\n",
        "  if kart == \"n\" and sum(oyuncu) > sum(pc):\n",
        "    print(f\"Kazandın Bilgisayar = {sum(pc)}\")\n",
        "    break\n",
        "  elif kart == \"n\" and sum(pc) > sum(oyuncu):\n",
        "    print(f\"Bilgisayar puanı = {sum(pc)} Kaybettin\")\n",
        "    break\n",
        "\n",
        "\n"
      ]
    }
  ]
}