{
  "nbformat": 4,
  "nbformat_minor": 0,
  "metadata": {
    "colab": {
      "provenance": [],
      "authorship_tag": "ABX9TyPcum62EBLiC0GvjKqGlWrI",
      "include_colab_link": true
    },
    "kernelspec": {
      "name": "python3",
      "display_name": "Python 3"
    },
    "language_info": {
      "name": "python"
    }
  },
  "cells": [
    {
      "cell_type": "markdown",
      "metadata": {
        "id": "view-in-github",
        "colab_type": "text"
      },
      "source": [
        "<a href=\"https://colab.research.google.com/github/627alyosa451/depo/blob/main/blackjack.ipynb\" target=\"_parent\"><img src=\"https://colab.research.google.com/assets/colab-badge.svg\" alt=\"Open In Colab\"/></a>"
      ]
    },
    {
      "cell_type": "code",
      "execution_count": 6,
      "metadata": {
        "colab": {
          "base_uri": "https://localhost:8080/"
        },
        "id": "OkgZ803i5GX7",
        "outputId": "19163de7-1445-4448-db7e-b0921856b775"
      },
      "outputs": [
        {
          "output_type": "stream",
          "name": "stdout",
          "text": [
            "kartlar = [3, 9] toplam = 12\n",
            "Bilgisayarın kartları =  ['3', '_']\n",
            "Kart çekmek istiyor musun?(y/n) y\n",
            "[3, 9, 1] 13\n",
            "['3', '_', '_']\n",
            "Kart çekmek istiyor musun?(y/n) y\n",
            "[3, 9, 1, 1] 14\n",
            "['3', '_', '_', '_']\n",
            "Kart çekmek istiyor musun?(y/n) y\n",
            "[3, 9, 1, 1, 7] 21\n",
            "['3', '_', '_', '_', '_']\n",
            "Blackjak!\n"
          ]
        }
      ],
      "source": [
        "import random\n",
        "\n",
        "oyuncu = []\n",
        "pc = []\n",
        "gosterilen_kart = []\n",
        "\n",
        "def kart_cek(kim,kere): #rastgele kart çekme\n",
        "  card_list = [1,2,3,4,5,6,7,8,9,10,11]\n",
        "  for i in range(int(kere)):\n",
        "    yeni_kart = card_list[random.randint(0,(len(card_list)-1))]\n",
        "    kim.append(yeni_kart)\n",
        "\n",
        "kart_cek(oyuncu,2)\n",
        "kart_cek(pc,2) #oyun başlangıcı\n",
        "gosterilen_kart += (str(pc[0]) + \"_\")\n",
        "\n",
        "print(f\"kartlar = {oyuncu} toplam = {sum(oyuncu)}\\nBilgisayarın kartları =  {gosterilen_kart}\")\n",
        "\n",
        "\n",
        "while True:\n",
        "  if sum(oyuncu) == 21 and sum(pc) == 21:\n",
        "    print(\"Berabere Blackjak\")\n",
        "  if sum(oyuncu) == 21:\n",
        "    print(\"Blackjak!\")\n",
        "    break\n",
        "  elif sum(pc) == 21:\n",
        "    print(\"Bilgisayar blackjak\")\n",
        "    break\n",
        "\n",
        "  kart = input(\"Kart çekmek istiyor musun?(y/n) \").lower()\n",
        "  if kart == \"y\":\n",
        "    kart_cek(oyuncu,1)\n",
        "    print(oyuncu, sum(oyuncu))\n",
        "\n",
        "\n",
        "  if sum(pc) <= 18:\n",
        "    kart_cek(pc,1)\n",
        "    gosterilen_kart.append(\"_\")\n",
        "    print(gosterilen_kart)\n",
        "\n",
        "  if sum(oyuncu) > 21:\n",
        "    print(f\"Sınırı aştın. Toplam = {sum(oyuncu)}\")\n",
        "    break\n",
        "\n",
        "  elif sum(pc) > 21:\n",
        "    print(f\"Bilgisayar sınır aştı {sum(pc)}\")\n",
        "    break\n",
        "\n",
        "  if kart == \"n\" and sum(oyuncu) > sum(pc):\n",
        "    print(f\"Kazandın Bilgisayar = {sum(pc)}\")\n",
        "    break\n",
        "  elif kart == \"n\" and sum(pc) > sum(oyuncu):\n",
        "    print(f\"Bilgisayar puanı = {sum(pc)} Kaybettin\")\n",
        "    break\n",
        "  elif kart == \"n\" and sum(pc) > sum(oyuncu):\n",
        "    print(\"Berabere\")\n",
        "    break\n",
        "\n",
        "\n"
      ]
    }
  ]
}