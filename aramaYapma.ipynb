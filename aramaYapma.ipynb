{
  "nbformat": 4,
  "nbformat_minor": 0,
  "metadata": {
    "colab": {
      "provenance": [],
      "authorship_tag": "ABX9TyPmCvrebqXECzFunlqAgIRJ",
      "include_colab_link": true
    },
    "kernelspec": {
      "name": "python3",
      "display_name": "Python 3"
    },
    "language_info": {
      "name": "python"
    }
  },
  "cells": [
    {
      "cell_type": "markdown",
      "metadata": {
        "id": "view-in-github",
        "colab_type": "text"
      },
      "source": [
        "<a href=\"https://colab.research.google.com/github/627alyosa451/depo/blob/main/aramaYapma.ipynb\" target=\"_parent\"><img src=\"https://colab.research.google.com/assets/colab-badge.svg\" alt=\"Open In Colab\"/></a>"
      ]
    },
    {
      "cell_type": "code",
      "execution_count": null,
      "metadata": {
        "id": "m0EIZRK-Fxga"
      },
      "outputs": [],
      "source": [
        "yerlesimYerleri = [\"Bolu\",\"Yozgat\",\"İnebolu\",\"Manavgat\",\"Çanakkale\",\"Çan\",\"Kırıkkale\",\"Tirebolucuk\",\"ça\"]\n",
        "\n",
        "def ara(kelime, altkelime):\n",
        "  kucuk = altkelime.lower()\n",
        "  sozlukk = kelime.lower()\n",
        "  if kucuk.endswith(\"*\"):\n",
        "    if sozlukk.startswith(kucuk[:-1]):\n",
        "      return kelime\n",
        "\n",
        "  else:\n",
        "    if kelime.lower() == kucuk:\n",
        "      print(kelime)\n",
        "\n",
        "def bul(altkelime):\n",
        "  for i in yerlesimYerleri:\n",
        "    sonuc = ara(i,altkelime)\n",
        "    if sonuc: print(sonuc)\n",
        "\n",
        "\n",
        "\n",
        "arananKelime = input(\"Aramak istediğiniz kelimeyi yazınız: \")\n",
        "bul(arananKelime) #aranan kelimenin sonuna \"*\" konduğunda aynı şekilde başlayan diğer kelimeleri de bulan program"
      ]
    }
  ]
}