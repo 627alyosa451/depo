{
  "nbformat": 4,
  "nbformat_minor": 0,
  "metadata": {
    "colab": {
      "provenance": [],
      "authorship_tag": "ABX9TyOQFdr6f06Qtk1panXBK4h/",
      "include_colab_link": true
    },
    "kernelspec": {
      "name": "python3",
      "display_name": "Python 3"
    },
    "language_info": {
      "name": "python"
    }
  },
  "cells": [
    {
      "cell_type": "markdown",
      "metadata": {
        "id": "view-in-github",
        "colab_type": "text"
      },
      "source": [
        "<a href=\"https://colab.research.google.com/github/627alyosa451/depo/blob/main/fonksiyonlu_adam_asmaca_22.ipynb\" target=\"_parent\"><img src=\"https://colab.research.google.com/assets/colab-badge.svg\" alt=\"Open In Colab\"/></a>"
      ]
    },
    {
      "cell_type": "code",
      "source": [
        "#adam asmaca\n",
        "import random\n",
        "\n",
        "kelimeler = [\"data\", \"information\", \"knowledge\", \"wisdom\"]\n",
        "can = 3\n",
        "\n",
        "yeniListe = []\n",
        "bosListe = []\n",
        "\n",
        "def oyunkur(kelimeListesi): ### RASTGELE KELİME SEÇME VE BOŞ KÜME OLUŞTURMA\n",
        "  rastgeleKelime = random.choice(kelimeListesi)\n",
        "\n",
        "  for i in range(len(rastgeleKelime)):\n",
        "    yeniListe.append(rastgeleKelime[i])\n",
        "    bosListe.append(\"_\")\n",
        "  print(bosListe)\n",
        "  return yeniListe, bosListe\n",
        "\n",
        "def play_again():  # TEKRAR\n",
        "  user = input(\"Tekrar oynamak istiyor musunuz? (Y/N) \").lower()\n",
        "  if user == \"y\":\n",
        "    return True\n",
        "  else:\n",
        "    return False\n",
        "\n",
        "oyunkur(kelimeler)\n",
        "\n",
        "while True:   #### OYUN DÖNGÜSÜ\n",
        "  tahmin = input(\"harf gir\")\n",
        "  if tahmin in yeniListe:\n",
        "\n",
        "    for i in range(len(yeniListe)):\n",
        "      if tahmin == yeniListe[i]:\n",
        "        bosListe[i] = tahmin\n",
        "  else:\n",
        "    can -= 1\n",
        "\n",
        "  if \"_\" not in bosListe:\n",
        "    print(\"U win\")\n",
        "    print(bosListe)\n",
        "    if play_again():\n",
        "      oyunkur()\n",
        "    else:\n",
        "      break\n",
        "\n",
        "  if can == 0:\n",
        "    print(\"U lose\")\n",
        "    if play_again():\n",
        "      oyunkur()\n",
        "    else:\n",
        "      break\n",
        "  print(bosListe)\n",
        "\n"
      ],
      "metadata": {
        "colab": {
          "base_uri": "https://localhost:8080/",
          "height": 449
        },
        "id": "WL9bKvjvttwT",
        "outputId": "1e8ec7fb-cd8d-431b-db2b-3c49f393a1d4",
        "collapsed": true
      },
      "execution_count": null,
      "outputs": [
        {
          "output_type": "stream",
          "name": "stdout",
          "text": [
            "['_', '_', '_', '_', '_', '_']\n",
            "harf giry\n",
            "U win\n",
            "[]\n"
          ]
        },
        {
          "output_type": "error",
          "ename": "KeyboardInterrupt",
          "evalue": "Interrupted by user",
          "traceback": [
            "\u001b[0;31m---------------------------------------------------------------------------\u001b[0m",
            "\u001b[0;31mKeyboardInterrupt\u001b[0m                         Traceback (most recent call last)",
            "\u001b[0;32m<ipython-input-3-a249134b7f7f>\u001b[0m in \u001b[0;36m<cell line: 29>\u001b[0;34m()\u001b[0m\n\u001b[1;32m     40\u001b[0m     \u001b[0mprint\u001b[0m\u001b[0;34m(\u001b[0m\u001b[0;34m\"U win\"\u001b[0m\u001b[0;34m)\u001b[0m\u001b[0;34m\u001b[0m\u001b[0;34m\u001b[0m\u001b[0m\n\u001b[1;32m     41\u001b[0m     \u001b[0mprint\u001b[0m\u001b[0;34m(\u001b[0m\u001b[0mbosListe\u001b[0m\u001b[0;34m)\u001b[0m\u001b[0;34m\u001b[0m\u001b[0;34m\u001b[0m\u001b[0m\n\u001b[0;32m---> 42\u001b[0;31m     \u001b[0;32mif\u001b[0m \u001b[0mplay_again\u001b[0m\u001b[0;34m(\u001b[0m\u001b[0;34m)\u001b[0m\u001b[0;34m:\u001b[0m\u001b[0;34m\u001b[0m\u001b[0;34m\u001b[0m\u001b[0m\n\u001b[0m\u001b[1;32m     43\u001b[0m       \u001b[0moyunkur\u001b[0m\u001b[0;34m(\u001b[0m\u001b[0;34m)\u001b[0m\u001b[0;34m\u001b[0m\u001b[0;34m\u001b[0m\u001b[0m\n\u001b[1;32m     44\u001b[0m     \u001b[0;32melse\u001b[0m\u001b[0;34m:\u001b[0m\u001b[0;34m\u001b[0m\u001b[0;34m\u001b[0m\u001b[0m\n",
            "\u001b[0;32m<ipython-input-3-a249134b7f7f>\u001b[0m in \u001b[0;36mplay_again\u001b[0;34m()\u001b[0m\n\u001b[1;32m     19\u001b[0m \u001b[0;34m\u001b[0m\u001b[0m\n\u001b[1;32m     20\u001b[0m \u001b[0;32mdef\u001b[0m \u001b[0mplay_again\u001b[0m\u001b[0;34m(\u001b[0m\u001b[0;34m)\u001b[0m\u001b[0;34m:\u001b[0m\u001b[0;34m\u001b[0m\u001b[0;34m\u001b[0m\u001b[0m\n\u001b[0;32m---> 21\u001b[0;31m   \u001b[0muser\u001b[0m \u001b[0;34m=\u001b[0m \u001b[0minput\u001b[0m\u001b[0;34m(\u001b[0m\u001b[0;34m\"Tekrar oynamak istiyor musunuz? (Y/N) \"\u001b[0m\u001b[0;34m)\u001b[0m\u001b[0;34m.\u001b[0m\u001b[0mlower\u001b[0m\u001b[0;34m(\u001b[0m\u001b[0;34m)\u001b[0m\u001b[0;34m\u001b[0m\u001b[0;34m\u001b[0m\u001b[0m\n\u001b[0m\u001b[1;32m     22\u001b[0m   \u001b[0;32mif\u001b[0m \u001b[0muser\u001b[0m \u001b[0;34m==\u001b[0m \u001b[0;34m\"y\"\u001b[0m\u001b[0;34m:\u001b[0m\u001b[0;34m\u001b[0m\u001b[0;34m\u001b[0m\u001b[0m\n\u001b[1;32m     23\u001b[0m     \u001b[0;32mreturn\u001b[0m \u001b[0;32mTrue\u001b[0m\u001b[0;34m\u001b[0m\u001b[0;34m\u001b[0m\u001b[0m\n",
            "\u001b[0;32m/usr/local/lib/python3.10/dist-packages/ipykernel/kernelbase.py\u001b[0m in \u001b[0;36mraw_input\u001b[0;34m(self, prompt)\u001b[0m\n\u001b[1;32m    849\u001b[0m                 \u001b[0;34m\"raw_input was called, but this frontend does not support input requests.\"\u001b[0m\u001b[0;34m\u001b[0m\u001b[0;34m\u001b[0m\u001b[0m\n\u001b[1;32m    850\u001b[0m             )\n\u001b[0;32m--> 851\u001b[0;31m         return self._input_request(str(prompt),\n\u001b[0m\u001b[1;32m    852\u001b[0m             \u001b[0mself\u001b[0m\u001b[0;34m.\u001b[0m\u001b[0m_parent_ident\u001b[0m\u001b[0;34m,\u001b[0m\u001b[0;34m\u001b[0m\u001b[0;34m\u001b[0m\u001b[0m\n\u001b[1;32m    853\u001b[0m             \u001b[0mself\u001b[0m\u001b[0;34m.\u001b[0m\u001b[0m_parent_header\u001b[0m\u001b[0;34m,\u001b[0m\u001b[0;34m\u001b[0m\u001b[0;34m\u001b[0m\u001b[0m\n",
            "\u001b[0;32m/usr/local/lib/python3.10/dist-packages/ipykernel/kernelbase.py\u001b[0m in \u001b[0;36m_input_request\u001b[0;34m(self, prompt, ident, parent, password)\u001b[0m\n\u001b[1;32m    893\u001b[0m             \u001b[0;32mexcept\u001b[0m \u001b[0mKeyboardInterrupt\u001b[0m\u001b[0;34m:\u001b[0m\u001b[0;34m\u001b[0m\u001b[0;34m\u001b[0m\u001b[0m\n\u001b[1;32m    894\u001b[0m                 \u001b[0;31m# re-raise KeyboardInterrupt, to truncate traceback\u001b[0m\u001b[0;34m\u001b[0m\u001b[0;34m\u001b[0m\u001b[0m\n\u001b[0;32m--> 895\u001b[0;31m                 \u001b[0;32mraise\u001b[0m \u001b[0mKeyboardInterrupt\u001b[0m\u001b[0;34m(\u001b[0m\u001b[0;34m\"Interrupted by user\"\u001b[0m\u001b[0;34m)\u001b[0m \u001b[0;32mfrom\u001b[0m \u001b[0;32mNone\u001b[0m\u001b[0;34m\u001b[0m\u001b[0;34m\u001b[0m\u001b[0m\n\u001b[0m\u001b[1;32m    896\u001b[0m             \u001b[0;32mexcept\u001b[0m \u001b[0mException\u001b[0m \u001b[0;32mas\u001b[0m \u001b[0me\u001b[0m\u001b[0;34m:\u001b[0m\u001b[0;34m\u001b[0m\u001b[0;34m\u001b[0m\u001b[0m\n\u001b[1;32m    897\u001b[0m                 \u001b[0mself\u001b[0m\u001b[0;34m.\u001b[0m\u001b[0mlog\u001b[0m\u001b[0;34m.\u001b[0m\u001b[0mwarning\u001b[0m\u001b[0;34m(\u001b[0m\u001b[0;34m\"Invalid Message:\"\u001b[0m\u001b[0;34m,\u001b[0m \u001b[0mexc_info\u001b[0m\u001b[0;34m=\u001b[0m\u001b[0;32mTrue\u001b[0m\u001b[0;34m)\u001b[0m\u001b[0;34m\u001b[0m\u001b[0;34m\u001b[0m\u001b[0m\n",
            "\u001b[0;31mKeyboardInterrupt\u001b[0m: Interrupted by user"
          ]
        }
      ]
    },
    {
      "cell_type": "code",
      "source": [
        "import random\n",
        "\n",
        "kelimeler = [\"araba\", \"at\", \"mal\"]\n",
        "\n",
        "def oyunkur():\n",
        "  print(rastgeleKelime)\n",
        "  for i in rastgeleKelime:\n",
        "    bosListe.append(\"_\")\n",
        "  return bosListe\n",
        "\n",
        "def kelimeBul():\n",
        "  return random.choice(kelimeler)\n",
        "\n",
        "def oyun():\n",
        "  can = 3\n",
        "  while True:\n",
        "    if \"_\" not in bosListe:\n",
        "      print(\"U win\")\n",
        "      break\n",
        "    tahmin = input(\"harf gir \")\n",
        "    if tahmin in rastgeleKelime:\n",
        "      for i in range(len(rastgeleKelime)):\n",
        "        if rastgeleKelime[i] == tahmin:\n",
        "          bosListe[i] = tahmin\n",
        "\n",
        "    else:\n",
        "      can -= 1\n",
        "    if can == 0:\n",
        "      print(\"U lose\")\n",
        "      break\n",
        "    print(bosListe)\n",
        "\n",
        "while True:\n",
        "  kosul = input(\"Tekrar oynamak Y/N \").lower() == \"y\"\n",
        "  if kosul:\n",
        "    bosListe = []\n",
        "    rastgeleKelime = kelimeBul()\n",
        "    oyunkur()\n",
        "    oyun()\n",
        "  else:\n",
        "    break\n"
      ],
      "metadata": {
        "collapsed": true,
        "id": "io-jdRshuAv0",
        "outputId": "04f36401-5a0e-4d67-ad6b-540955f3bbb9",
        "colab": {
          "base_uri": "https://localhost:8080/"
        }
      },
      "execution_count": null,
      "outputs": [
        {
          "name": "stdout",
          "output_type": "stream",
          "text": [
            "Tekrar oynamak Y/N y\n",
            "at\n",
            "harf gir a\n",
            "['a', '_']\n",
            "harf gir t\n",
            "['a', 't']\n",
            "U win\n",
            "Tekrar oynamak Y/N y\n",
            "mal\n",
            "harf gir m\n",
            "['m', '_', '_']\n",
            "harf gir a\n",
            "['m', 'a', '_']\n",
            "harf gir l\n",
            "['m', 'a', 'l']\n",
            "U win\n",
            "Tekrar oynamak Y/N y\n",
            "araba\n",
            "harf gir a\n",
            "['a', '_', 'a', '_', 'a']\n",
            "harf gir r\n",
            "['a', 'r', 'a', '_', 'a']\n",
            "harf gir b\n",
            "['a', 'r', 'a', 'b', 'a']\n",
            "U win\n",
            "Tekrar oynamak Y/N n\n"
          ]
        }
      ]
    },
    {
      "cell_type": "code",
      "source": [
        "kelime = \"\"\n",
        "\n",
        "kelime = \"asdfdsa\"\n",
        "\n",
        "print(kelime)"
      ],
      "metadata": {
        "id": "YctdXYKwX-1K",
        "outputId": "62d2b20c-b60f-434a-9277-33118752be94",
        "colab": {
          "base_uri": "https://localhost:8080/"
        }
      },
      "execution_count": null,
      "outputs": [
        {
          "output_type": "stream",
          "name": "stdout",
          "text": [
            "asdfdsa\n"
          ]
        }
      ]
    }
  ]
}