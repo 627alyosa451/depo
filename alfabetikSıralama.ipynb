{
  "nbformat": 4,
  "nbformat_minor": 0,
  "metadata": {
    "colab": {
      "provenance": [],
      "authorship_tag": "ABX9TyPy3Lz6x1ugVYxOvviss++X",
      "include_colab_link": true
    },
    "kernelspec": {
      "name": "python3",
      "display_name": "Python 3"
    },
    "language_info": {
      "name": "python"
    }
  },
  "cells": [
    {
      "cell_type": "markdown",
      "metadata": {
        "id": "view-in-github",
        "colab_type": "text"
      },
      "source": [
        "<a href=\"https://colab.research.google.com/github/627alyosa451/depo/blob/main/alfabetikS%C4%B1ralama.ipynb\" target=\"_parent\"><img src=\"https://colab.research.google.com/assets/colab-badge.svg\" alt=\"Open In Colab\"/></a>"
      ]
    },
    {
      "cell_type": "code",
      "source": [
        "oge = input(\"bir kelime giriniz \") #harf bazlı sıralama\n",
        "bos_liste = []\n",
        "for _ in range(len(oge)):\n",
        "  bos_liste += oge[_]\n",
        "\n",
        "bos = \"\"\n",
        "\n",
        "for _ in range(len(oge)):\n",
        "  for i in range(len(oge)):\n",
        "    if ord(bos_liste[_]) < ord(bos_liste[i]):\n",
        "      bos = (bos_liste[_])\n",
        "      bos_liste[_] = bos_liste[i]\n",
        "      bos_liste[i] = bos\n",
        "\n",
        "\n",
        "\n",
        "print(bos_liste)\n"
      ],
      "metadata": {
        "colab": {
          "base_uri": "https://localhost:8080/"
        },
        "id": "B9Kyi45sSRhY",
        "outputId": "426b9bdb-68eb-4ec0-dc62-71d39050409c"
      },
      "execution_count": 9,
      "outputs": [
        {
          "output_type": "stream",
          "name": "stdout",
          "text": [
            "bir kelime giriniz çşfjsdgpoısjıga\n",
            "['a', 'd', 'f', 'g', 'g', 'j', 'j', 'o', 'p', 's', 's', 'ç', 'ı', 'ı', 'ş']\n"
          ]
        }
      ]
    },
    {
      "cell_type": "code",
      "source": [
        "liste = input(\"',' ile ayırarak kelimeler giriniz \").split(\",\") #kelime bazlı sıralama\n",
        "bos = []\n",
        "for _ in range(len(liste)):\n",
        "  for i in range(len(liste)):\n",
        "    if ord(liste[_][0]) < ord(liste[i][0]): #aynı harfle başlayan kelimeler için çözüm bulunmadı\n",
        "      bos.append(liste[_])\n",
        "      print(bos[0])\n",
        "      liste[_] = liste[i]\n",
        "      liste[i] = bos[0]\n",
        "      del bos[0]\n",
        "\n",
        "print(liste)"
      ],
      "metadata": {
        "colab": {
          "base_uri": "https://localhost:8080/"
        },
        "id": "e9t1VwYrIYKg",
        "outputId": "15b876b7-b017-4780-efbc-330b71eaa8fb"
      },
      "execution_count": 39,
      "outputs": [
        {
          "output_type": "stream",
          "name": "stdout",
          "text": [
            "',' ile ayırarak kelimeler giriniz zda,dsi,bca\n",
            "dsi\n",
            "bca\n",
            "dsi\n",
            "['bca', 'dsi', 'zda']\n"
          ]
        }
      ]
    }
  ]
}