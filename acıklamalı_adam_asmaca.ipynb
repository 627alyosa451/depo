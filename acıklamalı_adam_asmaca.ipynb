{
  "nbformat": 4,
  "nbformat_minor": 0,
  "metadata": {
    "colab": {
      "provenance": [],
      "authorship_tag": "ABX9TyPKw1eukAmpUZPTzK+VKzho",
      "include_colab_link": true
    },
    "kernelspec": {
      "name": "python3",
      "display_name": "Python 3"
    },
    "language_info": {
      "name": "python"
    }
  },
  "cells": [
    {
      "cell_type": "markdown",
      "metadata": {
        "id": "view-in-github",
        "colab_type": "text"
      },
      "source": [
        "<a href=\"https://colab.research.google.com/github/627alyosa451/depo/blob/main/ac%C4%B1klamal%C4%B1_adam_asmaca.ipynb\" target=\"_parent\"><img src=\"https://colab.research.google.com/assets/colab-badge.svg\" alt=\"Open In Colab\"/></a>"
      ]
    },
    {
      "cell_type": "code",
      "execution_count": 6,
      "metadata": {
        "colab": {
          "base_uri": "https://localhost:8080/"
        },
        "id": "7gq5jnIwNKwf",
        "outputId": "d4802e97-33a6-4e8f-f59b-935055a6b8c4"
      },
      "outputs": [
        {
          "output_type": "stream",
          "name": "stdout",
          "text": [
            "['_', '_', '_', '_', '_']\n",
            "Bir harf tahmin edin: a\n",
            "['a', '_', 'a', '_', 'a']\n",
            "Bir harf tahmin edin: ğ\n",
            "2 can kaldı\n",
            "Bir harf tahmin edin: r\n",
            "['a', 'r', 'a', '_', 'a']\n",
            "Bir harf tahmin edin: b\n",
            "['a', 'r', 'a', 'b', 'a']\n",
            "kazandın\n"
          ]
        }
      ],
      "source": [
        "from random import choice  ### rastgele kelime seçebilmek için eklenen modül\n",
        "\n",
        "kelimeListesi = [\"araba\", \"ağaç\", \"armut\"] ### kullanılacak kelimeler listesi\n",
        "secilenKelime = choice(kelimeListesi)      ### rastgele kelime seçme\n",
        "\n",
        "bosListe= []                ### kullanıcıya görünecek olan boş listeyi oluşturma örneğin seçilen kelime \"ağaç\" ise kullanıcı \"_\",\"_\",\"_\",\"_\" bu ifadeyi görmeli\n",
        "for i in secilenKelime:     ### seçilen kelimenin uzunluğu kadar boş listeye \"_\" ifadesi ekleniyor\n",
        "  bosListe.append(\"_\")\n",
        "print(bosListe)             ### oluşturulan boş listenin yazdırılması\n",
        "\n",
        "can = 3\n",
        "while True:    ### OYUN DÖNGÜSÜ\n",
        "  if can == 0:          #\n",
        "    print(\"kaybettin\")  # eğer can 0' a eşitse \"kaybettin\" yaz ve döngüyü kır\n",
        "    break               #\n",
        "  elif \"_\" not in bosListe: #\n",
        "    print(\"kazandın\")       # eğer boş listenin içinde \"_\" ifadesi hiç kalmadıysa yani tüm harfler bilindiyse \"kazandın\" yaz ve döngüyü kır\n",
        "    break                   #\n",
        "\n",
        "  tahmin = input(\"Bir harf tahmin edin: \") ### kullanıcıdan tahmin harfi alma\n",
        "\n",
        "  if tahmin in secilenKelime:            # eğer girilen harf seçilen kelimede varsa\n",
        "    for i in range(len(secilenKelime)):  # seçilen kelimenin harf sayısınca bir döngü oluştur (i, 0'dan başlayıp kelime uzunluğu kadar sayacak)\n",
        "      if secilenKelime[i] == tahmin:     # eğer seçilen kelimenin i. sırasındaki harfi tahmin edilen harfe eşitse\n",
        "        bosListe[i] = tahmin             # boş listedeki i. sıradaki \"_\" sembolü yerine tahmin edilen harfi koy\n",
        "    print(bosListe)                      # boş listeyi yazdır (kullanıcının yazdığı harfin hangi sırada olduğunu görmesi için)\n",
        "  else:                                  # değilse\n",
        "    can -= 1                             # canı bir azalt\n",
        "    print(str(can) + \" can kaldı\")       # kaç can kaldığını yazdır (str kullanma nedeni integer ve string ifadelerinin aynı satırda yazdırılamaması)\n"
      ]
    }
  ]
}