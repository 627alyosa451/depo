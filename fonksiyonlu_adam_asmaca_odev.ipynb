{
  "nbformat": 4,
  "nbformat_minor": 0,
  "metadata": {
    "colab": {
      "provenance": [],
      "authorship_tag": "ABX9TyMGim6tkk5hLVsOr78PoXfC",
      "include_colab_link": true
    },
    "kernelspec": {
      "name": "python3",
      "display_name": "Python 3"
    },
    "language_info": {
      "name": "python"
    }
  },
  "cells": [
    {
      "cell_type": "markdown",
      "metadata": {
        "id": "view-in-github",
        "colab_type": "text"
      },
      "source": [
        "<a href=\"https://colab.research.google.com/github/627alyosa451/depo/blob/main/fonksiyonlu_adam_asmaca_odev.ipynb\" target=\"_parent\"><img src=\"https://colab.research.google.com/assets/colab-badge.svg\" alt=\"Open In Colab\"/></a>"
      ]
    },
    {
      "cell_type": "code",
      "execution_count": 8,
      "metadata": {
        "colab": {
          "base_uri": "https://localhost:8080/"
        },
        "id": "Bv_3QzPZ96qR",
        "outputId": "c8ad2d3a-8c32-4c65-ce6a-c99a4fcb022c"
      },
      "outputs": [
        {
          "name": "stdout",
          "output_type": "stream",
          "text": [
            "Oynamak için Y/N y\n",
            "mal\n",
            "['_', '_', '_']\n",
            "Oyun zorluğu seçiniz (kolay için 'k', normal için 'n', zor için 'z': k\n",
            "harf gir h\n",
            "6 hakkınız kaldı.\n",
            "['_', '_', '_']\n",
            "harf gir v\n",
            "5 hakkınız kaldı.\n",
            "['_', '_', '_']\n",
            "harf gir u\n",
            "4 hakkınız kaldı.\n",
            "['_', '_', '_']\n",
            "harf gir l\n",
            "['_', '_', 'l']\n",
            "harf gir a\n",
            "['_', 'a', 'l']\n",
            "harf gir m\n",
            "['m', 'a', 'l']\n",
            "U win\n",
            "Oynamak için Y/N n\n"
          ]
        }
      ],
      "source": [
        "import random\n",
        "kelimeler = [\"araba\", \"at\", \"mal\"]\n",
        "\n",
        "def zorluk():\n",
        "  user = input(\"Oyun zorluğu seçiniz (kolay için 'k', normal için 'n', zor için 'z': \").lower()\n",
        "  if user == \"z\":\n",
        "    can = 3\n",
        "  elif user == \"n\":\n",
        "    can = 5\n",
        "  else:\n",
        "    can = 7\n",
        "  return can\n",
        "\n",
        "\n",
        "\n",
        "def oyunkur():   ##### KULLANICIYA GÖRÜNEN LİSTE #####\n",
        "  print(rastgeleKelime) ## HİLE ##\n",
        "  for i in rastgeleKelime:\n",
        "    bosListe.append(\"_\")\n",
        "  return bosListe\n",
        "\n",
        "def kelimeBul(): ### RASTGELE KELİME SEÇME ###\n",
        "  return random.choice(kelimeler)\n",
        "\n",
        "def oyun():  ### TAHMİNLERİ VE KAZANMA KOŞULUNU KONTROL EDEN TEMEL FONKSİYON ###\n",
        "  print(bosListe)\n",
        "  can = zorluk()\n",
        "  while True:\n",
        "    if \"_\" not in bosListe:\n",
        "      print(\"U win\")\n",
        "      break\n",
        "    tahmin = input(\"harf gir \")\n",
        "    if tahmin in rastgeleKelime:\n",
        "      for i in range(len(rastgeleKelime)):\n",
        "        if rastgeleKelime[i] == tahmin:\n",
        "          bosListe[i] = tahmin\n",
        "\n",
        "    else:\n",
        "      can -= 1\n",
        "      print(f\"{can} hakkınız kaldı.\")\n",
        "    if can == 0:\n",
        "      print(\"U lose\")\n",
        "      break\n",
        "    print(bosListe)\n",
        "\n",
        "while True:  ## FONKSİYONLARIN DÖNGÜSÜ ##\n",
        "  kosul = input(\"Oynamak için Y/N \").lower() == \"y\"\n",
        "  if kosul:\n",
        "    bosListe = []\n",
        "    rastgeleKelime = kelimeBul()\n",
        "    oyunkur()\n",
        "    oyun()\n",
        "  else:\n",
        "    break"
      ]
    }
  ]
}